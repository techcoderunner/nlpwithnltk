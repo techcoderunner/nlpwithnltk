{
 "cells": [
  {
   "cell_type": "markdown",
   "metadata": {},
   "source": [
    "# Stemming and Lemmatization"
   ]
  },
  {
   "cell_type": "markdown",
   "metadata": {},
   "source": [
    "Process of reducing infected words to check work stem"
   ]
  },
  {
   "cell_type": "markdown",
   "metadata": {},
   "source": [
    "## Stemming\n",
    "The process of identifying the common base of word.\n",
    "For example.\n",
    "1. history\n",
    "2. historical \n",
    "For above word, the common word is: histor\n",
    "\n",
    "Common base word, no meaningful word. Its faster process"
   ]
  },
  {
   "cell_type": "markdown",
   "metadata": {},
   "source": [
    "## Lemmatization\n",
    "The process of ientifying the meaningful base word. \n",
    "For example\n",
    "1. history\n",
    "2. historical\n",
    "3. historia\n",
    "\n",
    "The above example, the common meaningful base word is history. \n",
    "\n",
    "Its slower process, as process need to identify the meaningful word."
   ]
  }
 ],
 "metadata": {
  "kernelspec": {
   "display_name": "Python 3",
   "language": "python",
   "name": "python3"
  },
  "language_info": {
   "codemirror_mode": {
    "name": "ipython",
    "version": 3
   },
   "file_extension": ".py",
   "mimetype": "text/x-python",
   "name": "python",
   "nbconvert_exporter": "python",
   "pygments_lexer": "ipython3",
   "version": "3.7.0"
  }
 },
 "nbformat": 4,
 "nbformat_minor": 2
}
